{
  "nbformat": 4,
  "nbformat_minor": 0,
  "metadata": {
    "colab": {
      "provenance": []
    },
    "kernelspec": {
      "name": "python3",
      "display_name": "Python 3"
    },
    "language_info": {
      "name": "python"
    }
  },
  "cells": [
    {
      "cell_type": "markdown",
      "source": [
        "# **Clasificador de Bayes ingenuo**\n",
        "- Deteccion de mensajes spam o no spam (ham)"
      ],
      "metadata": {
        "id": "ZpEbRScvvHND"
      }
    },
    {
      "cell_type": "markdown",
      "source": [
        "##**1. Importación de librerias**\n",
        "- **pandas.** Utilizado para cargar el conjunto de datos\n",
        "- **numpy.** Para el cálculo numérico, arays, el motor que facilita operaciones matemáticas y estadísticas  en Python\n",
        "- **train_test_split.** Entrenamiento de los datos\n",
        "- **CountVectorizer.** Convierte una colección de documentos de texto en una matríz de características numéricas\n",
        "- **MultinomialNB.** Implementación del clasificador Naive Bayes multinomial,\n",
        "- **accuracy_score.** Mide la proporción de predicciones correctas en comparación con el total de predicciones.\n",
        "- **recall_score.** Mide la sensibilidad o tasa de verdaderos positivos. Indica qué tan bien el modelo detecta las instancias positivas (spam).\n",
        "- **precision_score.** Mide la precisión o la tasa de aciertos de las predicciones positivas. Indica cuántos de los predichos como spam realmente son spam.\n",
        "- **confusion_matrix.** Muestra una matriz de confusión\n",
        "- **matplotlib.pyplot.** Una librería de Python utilizada para crear gráficos y visualizaciones."
      ],
      "metadata": {
        "id": "O9C9jQcMvSIV"
      }
    },
    {
      "cell_type": "code",
      "execution_count": null,
      "metadata": {
        "id": "j3FXvn7VID6i"
      },
      "outputs": [],
      "source": [
        "import pandas as pd\n",
        "import numpy as np\n",
        "from sklearn.feature_extraction.text import CountVectorizer\n",
        "from sklearn.model_selection import train_test_split\n",
        "from sklearn.naive_bayes import MultinomialNB\n",
        "from sklearn.metrics import accuracy_score, confusion_matrix, recall_score, precision_score\n",
        "import matplotlib.pyplot as plt"
      ]
    },
    {
      "cell_type": "markdown",
      "source": [
        "##**2. Data set**\n",
        "Cargando el data set de UC Irvine Machine Learning Repository con el nombre de **SMS Spam Collection.**\n",
        "- https://archive.ics.uci.edu/dataset/228/sms+spam+collection"
      ],
      "metadata": {
        "id": "cnxH2ri2vvSQ"
      }
    },
    {
      "cell_type": "code",
      "source": [
        "# Cargar el dataset de mensajes\n",
        "data = pd.read_csv(\"/content/drive/MyDrive/Colab Notebooks/INF354-Inteligencia Artificial/Exposicion/datasets/SMSSpamCollection\", sep='\\t', header=None, names=['label', 'message'])\n",
        "\n",
        "# Visualizar las primeras filas\n",
        "print(data.head())\n",
        "\n",
        "# Asumimos que el dataset tiene dos columnas: 'text' y 'label'\n",
        "# 'text' es el mensaje y 'label' es 1 para spam y 0 para no spam\n",
        "X = data['message']  # Los mensajes de texto\n",
        "y = data['label']  # Las etiquetas de spam (1) y no spam (0)"
      ],
      "metadata": {
        "colab": {
          "base_uri": "https://localhost:8080/"
        },
        "id": "s2Mp_ildIHjH",
        "outputId": "adb1aff4-f42d-4479-f61b-27d7bcc6859a"
      },
      "execution_count": null,
      "outputs": [
        {
          "output_type": "stream",
          "name": "stdout",
          "text": [
            "  label                                            message\n",
            "0   ham  Go until jurong point, crazy.. Available only ...\n",
            "1   ham                      Ok lar... Joking wif u oni...\n",
            "2  spam  Free entry in 2 a wkly comp to win FA Cup fina...\n",
            "3   ham  U dun say so early hor... U c already then say...\n",
            "4   ham  Nah I don't think he goes to usf, he lives aro...\n"
          ]
        }
      ]
    },
    {
      "cell_type": "markdown",
      "source": [
        "##**2. Conversión de datos**\n",
        "**CountVectorizer.** Convertimos el texto de los mensajes texto en una matriz dispersa donde:\n",
        "- Cada fila corresponde un mensaje\n",
        "- Cada columna corresponde a una palabra del vocabulario.\n",
        "\n",
        "**stop_words='english'.** Elimina las palabras comunes en inglés (como \"the\", \"and\", \"is\", etc.) ya que aportan valor significativo para la clasificación.\n",
        "\n",
        "**fit_transform.** Ajuste de vectorizer al conjunto de datos de mensajes, luego lo convierte en vectores numéricos."
      ],
      "metadata": {
        "id": "2BPzcFpmzcpB"
      }
    },
    {
      "cell_type": "code",
      "source": [
        "# Convertir los mensajes de texto en vectores de características numéricas\n",
        "vectorizer = CountVectorizer(stop_words='english')  # Quitamos las palabras comunes (stop words)\n",
        "X_vectorized = vectorizer.fit_transform(X)\n",
        "\n",
        "# Visualizamos las primeras 5 características (palabras)\n",
        "print(vectorizer.get_feature_names_out()[:5])"
      ],
      "metadata": {
        "colab": {
          "base_uri": "https://localhost:8080/"
        },
        "id": "DJ3iedG-LHaV",
        "outputId": "66d072d3-1f2b-40a4-9a25-856ffde054e0"
      },
      "execution_count": null,
      "outputs": [
        {
          "output_type": "stream",
          "name": "stdout",
          "text": [
            "['00' '000' '000pes' '008704050406' '0089']\n"
          ]
        }
      ]
    },
    {
      "cell_type": "markdown",
      "source": [
        "##**3. Entrenamiento del modelo**\n",
        "Entrena el modelo, evalua el rendimiento del modelo en datos no vistos (sobreajuste o overfitting).\n",
        "\n",
        "- **test_size=0.3**. 30% Prueba y 70% Entrenamiento\n",
        "- **random_state=42**. División de datos aleatorio."
      ],
      "metadata": {
        "id": "6DydIqgA1OB7"
      }
    },
    {
      "cell_type": "code",
      "source": [
        "# Dividir el dataset en conjunto de entrenamiento y prueba\n",
        "X_train, X_test, y_train, y_test = train_test_split(X_vectorized, y, test_size=0.3, random_state=42)"
      ],
      "metadata": {
        "id": "VTanN3HqLPPH"
      },
      "execution_count": null,
      "outputs": []
    },
    {
      "cell_type": "markdown",
      "source": [
        "##**4. Clasificador de Bayes**\n",
        "- **MultinomialNB().** crea una Instancia del clasificador Naive Bayes multinomial.\n",
        "- **model.fit(X_train, y_train).** Entrena el modelo utilizando las características del conjunto de entrenamiento (X_train) y las etiquetas correspondientes (y_train), aprendiendo las probabilidades necesarias para clasificar los mensajes."
      ],
      "metadata": {
        "id": "jrFmaV5T1a-m"
      }
    },
    {
      "cell_type": "code",
      "source": [
        "# Entrenar el clasificador Naive Bayes\n",
        "model = MultinomialNB()\n",
        "model.fit(X_train, y_train)"
      ],
      "metadata": {
        "colab": {
          "base_uri": "https://localhost:8080/",
          "height": 80
        },
        "id": "P0RX0y37LRvB",
        "outputId": "366e6dbf-cd5b-4e97-b2ac-acbb33e8162f"
      },
      "execution_count": null,
      "outputs": [
        {
          "output_type": "execute_result",
          "data": {
            "text/plain": [
              "MultinomialNB()"
            ],
            "text/html": [
              "<style>#sk-container-id-8 {\n",
              "  /* Definition of color scheme common for light and dark mode */\n",
              "  --sklearn-color-text: #000;\n",
              "  --sklearn-color-text-muted: #666;\n",
              "  --sklearn-color-line: gray;\n",
              "  /* Definition of color scheme for unfitted estimators */\n",
              "  --sklearn-color-unfitted-level-0: #fff5e6;\n",
              "  --sklearn-color-unfitted-level-1: #f6e4d2;\n",
              "  --sklearn-color-unfitted-level-2: #ffe0b3;\n",
              "  --sklearn-color-unfitted-level-3: chocolate;\n",
              "  /* Definition of color scheme for fitted estimators */\n",
              "  --sklearn-color-fitted-level-0: #f0f8ff;\n",
              "  --sklearn-color-fitted-level-1: #d4ebff;\n",
              "  --sklearn-color-fitted-level-2: #b3dbfd;\n",
              "  --sklearn-color-fitted-level-3: cornflowerblue;\n",
              "\n",
              "  /* Specific color for light theme */\n",
              "  --sklearn-color-text-on-default-background: var(--sg-text-color, var(--theme-code-foreground, var(--jp-content-font-color1, black)));\n",
              "  --sklearn-color-background: var(--sg-background-color, var(--theme-background, var(--jp-layout-color0, white)));\n",
              "  --sklearn-color-border-box: var(--sg-text-color, var(--theme-code-foreground, var(--jp-content-font-color1, black)));\n",
              "  --sklearn-color-icon: #696969;\n",
              "\n",
              "  @media (prefers-color-scheme: dark) {\n",
              "    /* Redefinition of color scheme for dark theme */\n",
              "    --sklearn-color-text-on-default-background: var(--sg-text-color, var(--theme-code-foreground, var(--jp-content-font-color1, white)));\n",
              "    --sklearn-color-background: var(--sg-background-color, var(--theme-background, var(--jp-layout-color0, #111)));\n",
              "    --sklearn-color-border-box: var(--sg-text-color, var(--theme-code-foreground, var(--jp-content-font-color1, white)));\n",
              "    --sklearn-color-icon: #878787;\n",
              "  }\n",
              "}\n",
              "\n",
              "#sk-container-id-8 {\n",
              "  color: var(--sklearn-color-text);\n",
              "}\n",
              "\n",
              "#sk-container-id-8 pre {\n",
              "  padding: 0;\n",
              "}\n",
              "\n",
              "#sk-container-id-8 input.sk-hidden--visually {\n",
              "  border: 0;\n",
              "  clip: rect(1px 1px 1px 1px);\n",
              "  clip: rect(1px, 1px, 1px, 1px);\n",
              "  height: 1px;\n",
              "  margin: -1px;\n",
              "  overflow: hidden;\n",
              "  padding: 0;\n",
              "  position: absolute;\n",
              "  width: 1px;\n",
              "}\n",
              "\n",
              "#sk-container-id-8 div.sk-dashed-wrapped {\n",
              "  border: 1px dashed var(--sklearn-color-line);\n",
              "  margin: 0 0.4em 0.5em 0.4em;\n",
              "  box-sizing: border-box;\n",
              "  padding-bottom: 0.4em;\n",
              "  background-color: var(--sklearn-color-background);\n",
              "}\n",
              "\n",
              "#sk-container-id-8 div.sk-container {\n",
              "  /* jupyter's `normalize.less` sets `[hidden] { display: none; }`\n",
              "     but bootstrap.min.css set `[hidden] { display: none !important; }`\n",
              "     so we also need the `!important` here to be able to override the\n",
              "     default hidden behavior on the sphinx rendered scikit-learn.org.\n",
              "     See: https://github.com/scikit-learn/scikit-learn/issues/21755 */\n",
              "  display: inline-block !important;\n",
              "  position: relative;\n",
              "}\n",
              "\n",
              "#sk-container-id-8 div.sk-text-repr-fallback {\n",
              "  display: none;\n",
              "}\n",
              "\n",
              "div.sk-parallel-item,\n",
              "div.sk-serial,\n",
              "div.sk-item {\n",
              "  /* draw centered vertical line to link estimators */\n",
              "  background-image: linear-gradient(var(--sklearn-color-text-on-default-background), var(--sklearn-color-text-on-default-background));\n",
              "  background-size: 2px 100%;\n",
              "  background-repeat: no-repeat;\n",
              "  background-position: center center;\n",
              "}\n",
              "\n",
              "/* Parallel-specific style estimator block */\n",
              "\n",
              "#sk-container-id-8 div.sk-parallel-item::after {\n",
              "  content: \"\";\n",
              "  width: 100%;\n",
              "  border-bottom: 2px solid var(--sklearn-color-text-on-default-background);\n",
              "  flex-grow: 1;\n",
              "}\n",
              "\n",
              "#sk-container-id-8 div.sk-parallel {\n",
              "  display: flex;\n",
              "  align-items: stretch;\n",
              "  justify-content: center;\n",
              "  background-color: var(--sklearn-color-background);\n",
              "  position: relative;\n",
              "}\n",
              "\n",
              "#sk-container-id-8 div.sk-parallel-item {\n",
              "  display: flex;\n",
              "  flex-direction: column;\n",
              "}\n",
              "\n",
              "#sk-container-id-8 div.sk-parallel-item:first-child::after {\n",
              "  align-self: flex-end;\n",
              "  width: 50%;\n",
              "}\n",
              "\n",
              "#sk-container-id-8 div.sk-parallel-item:last-child::after {\n",
              "  align-self: flex-start;\n",
              "  width: 50%;\n",
              "}\n",
              "\n",
              "#sk-container-id-8 div.sk-parallel-item:only-child::after {\n",
              "  width: 0;\n",
              "}\n",
              "\n",
              "/* Serial-specific style estimator block */\n",
              "\n",
              "#sk-container-id-8 div.sk-serial {\n",
              "  display: flex;\n",
              "  flex-direction: column;\n",
              "  align-items: center;\n",
              "  background-color: var(--sklearn-color-background);\n",
              "  padding-right: 1em;\n",
              "  padding-left: 1em;\n",
              "}\n",
              "\n",
              "\n",
              "/* Toggleable style: style used for estimator/Pipeline/ColumnTransformer box that is\n",
              "clickable and can be expanded/collapsed.\n",
              "- Pipeline and ColumnTransformer use this feature and define the default style\n",
              "- Estimators will overwrite some part of the style using the `sk-estimator` class\n",
              "*/\n",
              "\n",
              "/* Pipeline and ColumnTransformer style (default) */\n",
              "\n",
              "#sk-container-id-8 div.sk-toggleable {\n",
              "  /* Default theme specific background. It is overwritten whether we have a\n",
              "  specific estimator or a Pipeline/ColumnTransformer */\n",
              "  background-color: var(--sklearn-color-background);\n",
              "}\n",
              "\n",
              "/* Toggleable label */\n",
              "#sk-container-id-8 label.sk-toggleable__label {\n",
              "  cursor: pointer;\n",
              "  display: flex;\n",
              "  width: 100%;\n",
              "  margin-bottom: 0;\n",
              "  padding: 0.5em;\n",
              "  box-sizing: border-box;\n",
              "  text-align: center;\n",
              "  align-items: start;\n",
              "  justify-content: space-between;\n",
              "  gap: 0.5em;\n",
              "}\n",
              "\n",
              "#sk-container-id-8 label.sk-toggleable__label .caption {\n",
              "  font-size: 0.6rem;\n",
              "  font-weight: lighter;\n",
              "  color: var(--sklearn-color-text-muted);\n",
              "}\n",
              "\n",
              "#sk-container-id-8 label.sk-toggleable__label-arrow:before {\n",
              "  /* Arrow on the left of the label */\n",
              "  content: \"▸\";\n",
              "  float: left;\n",
              "  margin-right: 0.25em;\n",
              "  color: var(--sklearn-color-icon);\n",
              "}\n",
              "\n",
              "#sk-container-id-8 label.sk-toggleable__label-arrow:hover:before {\n",
              "  color: var(--sklearn-color-text);\n",
              "}\n",
              "\n",
              "/* Toggleable content - dropdown */\n",
              "\n",
              "#sk-container-id-8 div.sk-toggleable__content {\n",
              "  max-height: 0;\n",
              "  max-width: 0;\n",
              "  overflow: hidden;\n",
              "  text-align: left;\n",
              "  /* unfitted */\n",
              "  background-color: var(--sklearn-color-unfitted-level-0);\n",
              "}\n",
              "\n",
              "#sk-container-id-8 div.sk-toggleable__content.fitted {\n",
              "  /* fitted */\n",
              "  background-color: var(--sklearn-color-fitted-level-0);\n",
              "}\n",
              "\n",
              "#sk-container-id-8 div.sk-toggleable__content pre {\n",
              "  margin: 0.2em;\n",
              "  border-radius: 0.25em;\n",
              "  color: var(--sklearn-color-text);\n",
              "  /* unfitted */\n",
              "  background-color: var(--sklearn-color-unfitted-level-0);\n",
              "}\n",
              "\n",
              "#sk-container-id-8 div.sk-toggleable__content.fitted pre {\n",
              "  /* unfitted */\n",
              "  background-color: var(--sklearn-color-fitted-level-0);\n",
              "}\n",
              "\n",
              "#sk-container-id-8 input.sk-toggleable__control:checked~div.sk-toggleable__content {\n",
              "  /* Expand drop-down */\n",
              "  max-height: 200px;\n",
              "  max-width: 100%;\n",
              "  overflow: auto;\n",
              "}\n",
              "\n",
              "#sk-container-id-8 input.sk-toggleable__control:checked~label.sk-toggleable__label-arrow:before {\n",
              "  content: \"▾\";\n",
              "}\n",
              "\n",
              "/* Pipeline/ColumnTransformer-specific style */\n",
              "\n",
              "#sk-container-id-8 div.sk-label input.sk-toggleable__control:checked~label.sk-toggleable__label {\n",
              "  color: var(--sklearn-color-text);\n",
              "  background-color: var(--sklearn-color-unfitted-level-2);\n",
              "}\n",
              "\n",
              "#sk-container-id-8 div.sk-label.fitted input.sk-toggleable__control:checked~label.sk-toggleable__label {\n",
              "  background-color: var(--sklearn-color-fitted-level-2);\n",
              "}\n",
              "\n",
              "/* Estimator-specific style */\n",
              "\n",
              "/* Colorize estimator box */\n",
              "#sk-container-id-8 div.sk-estimator input.sk-toggleable__control:checked~label.sk-toggleable__label {\n",
              "  /* unfitted */\n",
              "  background-color: var(--sklearn-color-unfitted-level-2);\n",
              "}\n",
              "\n",
              "#sk-container-id-8 div.sk-estimator.fitted input.sk-toggleable__control:checked~label.sk-toggleable__label {\n",
              "  /* fitted */\n",
              "  background-color: var(--sklearn-color-fitted-level-2);\n",
              "}\n",
              "\n",
              "#sk-container-id-8 div.sk-label label.sk-toggleable__label,\n",
              "#sk-container-id-8 div.sk-label label {\n",
              "  /* The background is the default theme color */\n",
              "  color: var(--sklearn-color-text-on-default-background);\n",
              "}\n",
              "\n",
              "/* On hover, darken the color of the background */\n",
              "#sk-container-id-8 div.sk-label:hover label.sk-toggleable__label {\n",
              "  color: var(--sklearn-color-text);\n",
              "  background-color: var(--sklearn-color-unfitted-level-2);\n",
              "}\n",
              "\n",
              "/* Label box, darken color on hover, fitted */\n",
              "#sk-container-id-8 div.sk-label.fitted:hover label.sk-toggleable__label.fitted {\n",
              "  color: var(--sklearn-color-text);\n",
              "  background-color: var(--sklearn-color-fitted-level-2);\n",
              "}\n",
              "\n",
              "/* Estimator label */\n",
              "\n",
              "#sk-container-id-8 div.sk-label label {\n",
              "  font-family: monospace;\n",
              "  font-weight: bold;\n",
              "  display: inline-block;\n",
              "  line-height: 1.2em;\n",
              "}\n",
              "\n",
              "#sk-container-id-8 div.sk-label-container {\n",
              "  text-align: center;\n",
              "}\n",
              "\n",
              "/* Estimator-specific */\n",
              "#sk-container-id-8 div.sk-estimator {\n",
              "  font-family: monospace;\n",
              "  border: 1px dotted var(--sklearn-color-border-box);\n",
              "  border-radius: 0.25em;\n",
              "  box-sizing: border-box;\n",
              "  margin-bottom: 0.5em;\n",
              "  /* unfitted */\n",
              "  background-color: var(--sklearn-color-unfitted-level-0);\n",
              "}\n",
              "\n",
              "#sk-container-id-8 div.sk-estimator.fitted {\n",
              "  /* fitted */\n",
              "  background-color: var(--sklearn-color-fitted-level-0);\n",
              "}\n",
              "\n",
              "/* on hover */\n",
              "#sk-container-id-8 div.sk-estimator:hover {\n",
              "  /* unfitted */\n",
              "  background-color: var(--sklearn-color-unfitted-level-2);\n",
              "}\n",
              "\n",
              "#sk-container-id-8 div.sk-estimator.fitted:hover {\n",
              "  /* fitted */\n",
              "  background-color: var(--sklearn-color-fitted-level-2);\n",
              "}\n",
              "\n",
              "/* Specification for estimator info (e.g. \"i\" and \"?\") */\n",
              "\n",
              "/* Common style for \"i\" and \"?\" */\n",
              "\n",
              ".sk-estimator-doc-link,\n",
              "a:link.sk-estimator-doc-link,\n",
              "a:visited.sk-estimator-doc-link {\n",
              "  float: right;\n",
              "  font-size: smaller;\n",
              "  line-height: 1em;\n",
              "  font-family: monospace;\n",
              "  background-color: var(--sklearn-color-background);\n",
              "  border-radius: 1em;\n",
              "  height: 1em;\n",
              "  width: 1em;\n",
              "  text-decoration: none !important;\n",
              "  margin-left: 0.5em;\n",
              "  text-align: center;\n",
              "  /* unfitted */\n",
              "  border: var(--sklearn-color-unfitted-level-1) 1pt solid;\n",
              "  color: var(--sklearn-color-unfitted-level-1);\n",
              "}\n",
              "\n",
              ".sk-estimator-doc-link.fitted,\n",
              "a:link.sk-estimator-doc-link.fitted,\n",
              "a:visited.sk-estimator-doc-link.fitted {\n",
              "  /* fitted */\n",
              "  border: var(--sklearn-color-fitted-level-1) 1pt solid;\n",
              "  color: var(--sklearn-color-fitted-level-1);\n",
              "}\n",
              "\n",
              "/* On hover */\n",
              "div.sk-estimator:hover .sk-estimator-doc-link:hover,\n",
              ".sk-estimator-doc-link:hover,\n",
              "div.sk-label-container:hover .sk-estimator-doc-link:hover,\n",
              ".sk-estimator-doc-link:hover {\n",
              "  /* unfitted */\n",
              "  background-color: var(--sklearn-color-unfitted-level-3);\n",
              "  color: var(--sklearn-color-background);\n",
              "  text-decoration: none;\n",
              "}\n",
              "\n",
              "div.sk-estimator.fitted:hover .sk-estimator-doc-link.fitted:hover,\n",
              ".sk-estimator-doc-link.fitted:hover,\n",
              "div.sk-label-container:hover .sk-estimator-doc-link.fitted:hover,\n",
              ".sk-estimator-doc-link.fitted:hover {\n",
              "  /* fitted */\n",
              "  background-color: var(--sklearn-color-fitted-level-3);\n",
              "  color: var(--sklearn-color-background);\n",
              "  text-decoration: none;\n",
              "}\n",
              "\n",
              "/* Span, style for the box shown on hovering the info icon */\n",
              ".sk-estimator-doc-link span {\n",
              "  display: none;\n",
              "  z-index: 9999;\n",
              "  position: relative;\n",
              "  font-weight: normal;\n",
              "  right: .2ex;\n",
              "  padding: .5ex;\n",
              "  margin: .5ex;\n",
              "  width: min-content;\n",
              "  min-width: 20ex;\n",
              "  max-width: 50ex;\n",
              "  color: var(--sklearn-color-text);\n",
              "  box-shadow: 2pt 2pt 4pt #999;\n",
              "  /* unfitted */\n",
              "  background: var(--sklearn-color-unfitted-level-0);\n",
              "  border: .5pt solid var(--sklearn-color-unfitted-level-3);\n",
              "}\n",
              "\n",
              ".sk-estimator-doc-link.fitted span {\n",
              "  /* fitted */\n",
              "  background: var(--sklearn-color-fitted-level-0);\n",
              "  border: var(--sklearn-color-fitted-level-3);\n",
              "}\n",
              "\n",
              ".sk-estimator-doc-link:hover span {\n",
              "  display: block;\n",
              "}\n",
              "\n",
              "/* \"?\"-specific style due to the `<a>` HTML tag */\n",
              "\n",
              "#sk-container-id-8 a.estimator_doc_link {\n",
              "  float: right;\n",
              "  font-size: 1rem;\n",
              "  line-height: 1em;\n",
              "  font-family: monospace;\n",
              "  background-color: var(--sklearn-color-background);\n",
              "  border-radius: 1rem;\n",
              "  height: 1rem;\n",
              "  width: 1rem;\n",
              "  text-decoration: none;\n",
              "  /* unfitted */\n",
              "  color: var(--sklearn-color-unfitted-level-1);\n",
              "  border: var(--sklearn-color-unfitted-level-1) 1pt solid;\n",
              "}\n",
              "\n",
              "#sk-container-id-8 a.estimator_doc_link.fitted {\n",
              "  /* fitted */\n",
              "  border: var(--sklearn-color-fitted-level-1) 1pt solid;\n",
              "  color: var(--sklearn-color-fitted-level-1);\n",
              "}\n",
              "\n",
              "/* On hover */\n",
              "#sk-container-id-8 a.estimator_doc_link:hover {\n",
              "  /* unfitted */\n",
              "  background-color: var(--sklearn-color-unfitted-level-3);\n",
              "  color: var(--sklearn-color-background);\n",
              "  text-decoration: none;\n",
              "}\n",
              "\n",
              "#sk-container-id-8 a.estimator_doc_link.fitted:hover {\n",
              "  /* fitted */\n",
              "  background-color: var(--sklearn-color-fitted-level-3);\n",
              "}\n",
              "</style><div id=\"sk-container-id-8\" class=\"sk-top-container\"><div class=\"sk-text-repr-fallback\"><pre>MultinomialNB()</pre><b>In a Jupyter environment, please rerun this cell to show the HTML representation or trust the notebook. <br />On GitHub, the HTML representation is unable to render, please try loading this page with nbviewer.org.</b></div><div class=\"sk-container\" hidden><div class=\"sk-item\"><div class=\"sk-estimator fitted sk-toggleable\"><input class=\"sk-toggleable__control sk-hidden--visually\" id=\"sk-estimator-id-8\" type=\"checkbox\" checked><label for=\"sk-estimator-id-8\" class=\"sk-toggleable__label fitted sk-toggleable__label-arrow\"><div><div>MultinomialNB</div></div><div><a class=\"sk-estimator-doc-link fitted\" rel=\"noreferrer\" target=\"_blank\" href=\"https://scikit-learn.org/1.6/modules/generated/sklearn.naive_bayes.MultinomialNB.html\">?<span>Documentation for MultinomialNB</span></a><span class=\"sk-estimator-doc-link fitted\">i<span>Fitted</span></span></div></label><div class=\"sk-toggleable__content fitted\"><pre>MultinomialNB()</pre></div> </div></div></div></div>"
            ]
          },
          "metadata": {},
          "execution_count": 78
        }
      ]
    },
    {
      "cell_type": "markdown",
      "source": [
        "##**5. Precisión y Evaluación del modelo**\n",
        "- **model.predict(X_test).** Entrenamiendo del modelo con el conjunto de prueba (X_test)\n",
        "- **accuracy_score.** Precisión o exactitud del mmodelo para predicciones correctas.\n",
        "- **recall_score.** Recall o sensibilidad para la clase spam, cómo mide correctamente los mensajes spam\n",
        "- **precision_score.** Precisión para etiquetar los mensajes no spam como spam."
      ],
      "metadata": {
        "id": "NmsMapwpHl-0"
      }
    },
    {
      "cell_type": "code",
      "source": [
        "# Predicciones del modelo\n",
        "y_pred = model.predict(X_test)\n",
        "\n",
        "# Calcular precisión, recall y exactitud\n",
        "accuracy = accuracy_score(y_test, y_pred)\n",
        "recall = recall_score(y_test, y_pred, pos_label='spam')\n",
        "precision = precision_score(y_test, y_pred, pos_label='spam')\n",
        "\n",
        "# Mostrar resultados\n",
        "print(f\"Exactitud: {accuracy * 100:.2f}%\")\n",
        "print(f\"Recall: {recall * 100:.2f}%\")\n",
        "print(f\"Precision: {precision * 100:.2f}%\")\n"
      ],
      "metadata": {
        "colab": {
          "base_uri": "https://localhost:8080/"
        },
        "id": "htEKmWNr9kHf",
        "outputId": "4ea59b59-41f4-4c9c-ca50-abce40087e7a"
      },
      "execution_count": null,
      "outputs": [
        {
          "output_type": "stream",
          "name": "stdout",
          "text": [
            "Exactitud: 98.09%\n",
            "Recall: 95.54%\n",
            "Precision: 90.68%\n"
          ]
        }
      ]
    },
    {
      "cell_type": "markdown",
      "source": [
        "##**6. Matriz de confusión**\n",
        "- **confusion_matrix(y_test, y_pred).** Calcula la matriz de confusión.\n",
        "\n",
        "![matriz de confusion.png](data:image/png;base64,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)\n",
        "\n",
        "  - **TP. True Positive.** Los mensajes no spam correctamente identificados como no spam\n",
        "  - **FP. False Positive.** Los mensajes no spam incorrectamente identificados como spam.\n",
        "  - **FN. False Negative.** Los mensajes spam incorrectamente identificados como no spam.\n",
        "  - **TN, True Negative.** Los mensajes spam correctamente identificados como spam."
      ],
      "metadata": {
        "id": "1-8aRuRoABZn"
      }
    },
    {
      "cell_type": "code",
      "source": [
        "# Generar la matriz de confusión\n",
        "cm = confusion_matrix(y_test, y_pred)\n",
        "\n",
        "# Mostrar la matriz de confusión\n",
        "print(\"Matriz de confusión:\")\n",
        "print(cm)\n"
      ],
      "metadata": {
        "colab": {
          "base_uri": "https://localhost:8080/"
        },
        "id": "TZ_T2acfAGme",
        "outputId": "ff0d5485-c944-411c-b73f-6ea0a7a08d35"
      },
      "execution_count": null,
      "outputs": [
        {
          "output_type": "stream",
          "name": "stdout",
          "text": [
            "Matriz de confusión:\n",
            "[[1426   22]\n",
            " [  10  214]]\n"
          ]
        }
      ]
    },
    {
      "cell_type": "markdown",
      "source": [
        "##**7. Grafica de precision y recall (o sensibilida)**\n",
        "- **labels.** Etiquetas de la grafica.\n",
        "- **scores.** Métricas para mostrarlos a escala.\n",
        "- **plt.bar().** Crea un gráfico de barras con las labels en el eje x y los scores (valores de precisión y recall) en el eje y."
      ],
      "metadata": {
        "id": "98NRFtGGAIs5"
      }
    },
    {
      "cell_type": "code",
      "source": [
        "# Graficar la precisión y recall\n",
        "labels = ['Precision', 'Recall']\n",
        "scores = [precision * 100, recall * 100]\n",
        "\n",
        "plt.bar(labels, scores, color=['blue', 'orange'])\n",
        "plt.ylabel('Percentage (%)')\n",
        "plt.title('Precision and Recall of the Naive Bayes Classifier')\n",
        "plt.show()\n"
      ],
      "metadata": {
        "colab": {
          "base_uri": "https://localhost:8080/",
          "height": 452
        },
        "id": "rLz3VHixAB1Y",
        "outputId": "5d4f1070-b0ec-441c-862c-1d4133851858"
      },
      "execution_count": null,
      "outputs": [
        {
          "output_type": "display_data",
          "data": {
            "text/plain": [
              "<Figure size 640x480 with 1 Axes>"
            ],
            "image/png": "[encoded data removed]"
          },
          "metadata": {}
        }
      ]
    },
    {
      "cell_type": "markdown",
      "source": [
        "# Codigo completo\n"
      ],
      "metadata": {
        "id": "-eq03TSmk_z2"
      }
    },
    {
      "cell_type": "code",
      "source": [
        "import pandas as pd\n",
        "import numpy as np\n",
        "from sklearn.model_selection import train_test_split\n",
        "from sklearn.feature_extraction.text import CountVectorizer\n",
        "from sklearn.naive_bayes import MultinomialNB\n",
        "from sklearn.metrics import accuracy_score, confusion_matrix, recall_score, precision_score\n",
        "import matplotlib.pyplot as plt\n",
        "# Cargar el dataset de mensajes\n",
        "data = pd.read_csv(\"/content/drive/MyDrive/Colab Notebooks/INF354-Inteligencia Artificial/Exposicion/datasets/SMSSpamCollection\", sep='\\t', header=None, names=['label', 'message'])\n",
        "\n",
        "# Visualizar las primeras filas\n",
        "print(data.head())\n",
        "\n",
        "# Asumimos que el dataset tiene dos columnas: 'text' y 'label'\n",
        "# 'text' es el mensaje y 'label' es 1 para spam y 0 para no spam\n",
        "X = data['message']  # Los mensajes de texto\n",
        "y = data['label']  # Las etiquetas de spam (1) y no spam (0)\n",
        "# Convertir los mensajes de texto en vectores de características numéricas\n",
        "vectorizer = CountVectorizer(stop_words='english')  # Quitamos las palabras comunes (stop words)\n",
        "X_vectorized = vectorizer.fit_transform(X)\n",
        "\n",
        "# Visualizamos las primeras 5 características (palabras)\n",
        "print(vectorizer.get_feature_names_out()[:5])\n",
        "# Dividir el dataset en conjunto de entrenamiento y prueba\n",
        "X_train, X_test, y_train, y_test = train_test_split(X_vectorized, y, test_size=0.3, random_state=42)\n",
        "# Entrenar el clasificador Naive Bayes\n",
        "model = MultinomialNB()\n",
        "model.fit(X_train, y_train)\n",
        "# Predicciones del modelo\n",
        "y_pred = model.predict(X_test)\n",
        "\n",
        "# Calcular precisión, recall y exactitud\n",
        "accuracy = accuracy_score(y_test, y_pred)\n",
        "recall = recall_score(y_test, y_pred, pos_label='spam')\n",
        "precision = precision_score(y_test, y_pred, pos_label='spam')\n",
        "\n",
        "# Mostrar resultados\n",
        "print(f\"Exactitud: {accuracy * 100:.2f}%\")\n",
        "print(f\"Recall: {recall * 100:.2f}%\")\n",
        "print(f\"Precision: {precision * 100:.2f}%\")\n",
        "# Generar la matriz de confusión\n",
        "cm = confusion_matrix(y_test, y_pred)\n",
        "\n",
        "# Mostrar la matriz de confusión\n",
        "print(\"Matriz de confusión:\")\n",
        "print(cm)\n",
        "\n",
        "# Graficar la precisión y recall\n",
        "labels = ['Precision', 'Recall']\n",
        "scores = [precision * 100, recall * 100]\n",
        "\n",
        "plt.bar(labels, scores, color=['blue', 'orange'])\n",
        "plt.ylabel('Percentage (%)')\n",
        "plt.title('Precision and Recall of the Naive Bayes Classifier')\n",
        "plt.show()\n"
      ],
      "metadata": {
        "colab": {
          "base_uri": "https://localhost:8080/",
          "height": 678
        },
        "id": "wjTsjZDck_Jj",
        "outputId": "062ffd6f-50e4-47a1-d4db-e3abfaa4a473"
      },
      "execution_count": null,
      "outputs": [
        {
          "output_type": "stream",
          "name": "stdout",
          "text": [
            "  label                                            message\n",
            "0   ham  Go until jurong point, crazy.. Available only ...\n",
            "1   ham                      Ok lar... Joking wif u oni...\n",
            "2  spam  Free entry in 2 a wkly comp to win FA Cup fina...\n",
            "3   ham  U dun say so early hor... U c already then say...\n",
            "4   ham  Nah I don't think he goes to usf, he lives aro...\n",
            "['00' '000' '000pes' '008704050406' '0089']\n",
            "Exactitud: 98.09%\n",
            "Recall: 95.54%\n",
            "Precision: 90.68%\n",
            "Matriz de confusión:\n",
            "[[1426   22]\n",
            " [  10  214]]\n"
          ]
        },
        {
          "output_type": "display_data",
          "data": {
            "text/plain": [
              "<Figure size 640x480 with 1 Axes>"
            ],
            "image/png": "[encoded data removed]"
          },
          "metadata": {}
        }
      ]
    }
  ]
}